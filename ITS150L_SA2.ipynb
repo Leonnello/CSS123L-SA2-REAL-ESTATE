{
  "nbformat": 4,
  "nbformat_minor": 0,
  "metadata": {
    "colab": {
      "provenance": [],
      "include_colab_link": true
    },
    "kernelspec": {
      "name": "python3",
      "display_name": "Python 3"
    },
    "language_info": {
      "name": "python"
    }
  },
  "cells": [
    {
      "cell_type": "markdown",
      "metadata": {
        "id": "view-in-github",
        "colab_type": "text"
      },
      "source": [
        "<a href=\"https://colab.research.google.com/github/Leonnello/CSS123L-SA2-REAL-ESTATE/blob/patch-1/ITS150L_SA2.ipynb\" target=\"_parent\"><img src=\"https://colab.research.google.com/assets/colab-badge.svg\" alt=\"Open In Colab\"/></a>"
      ]
    },
    {
      "cell_type": "markdown",
      "source": [
        "ITS150L_FOPI01_1Q2425<br>\n",
        "Members:<br>\n",
        "Celina Therese Tabano<br>\n",
        "Noel Allen Elises"
      ],
      "metadata": {
        "id": "C4n0AeerValU"
      }
    },
    {
      "cell_type": "code",
      "source": [
        "class Process:\n",
        "  position = None\n",
        "\n",
        "  def __init__(self, pid, burst_time, memory_size):\n",
        "    self.pid = pid\n",
        "    self.burst_time = burst_time\n",
        "    self.memory_size = memory_size\n"
      ],
      "metadata": {
        "id": "Zq8F0U-uIxxL"
      },
      "execution_count": null,
      "outputs": []
    },
    {
      "cell_type": "code",
      "source": [
        "class MemoryBlock:\n",
        "  def __init__(self, start, end, isFree: bool = True):\n",
        "    self.start = start\n",
        "    self.end = end\n",
        "    self.isFree = isFree\n",
        "\n",
        "  def get_size(self):\n",
        "    return self.end - self.start + 1"
      ],
      "metadata": {
        "id": "2tWl_jCjDyub"
      },
      "execution_count": null,
      "outputs": []
    },
    {
      "cell_type": "code",
      "source": [
        "##### GLOBAL VARIABLES\n",
        "# counter for pid\n",
        "pid_count = 1\n",
        "\n",
        "# array of all process to be scheduled\n",
        "current_processes = []\n",
        "\n",
        "# memory size and array for all memory blocks\n",
        "main_memory_size = 0\n",
        "memory_blocks = []\n"
      ],
      "metadata": {
        "id": "DPVrhBJnE5wL"
      },
      "execution_count": null,
      "outputs": []
    },
    {
      "cell_type": "code",
      "source": [
        "# function to input new jobs to queue\n",
        "# prolly on a different process/fork?\n",
        "def new_job():\n",
        "  global pid_count\n",
        "  while True:\n",
        "    try:\n",
        "      burst_time = int(input(f\"Enter process#{pid_count} burst time: \"))\n",
        "      memory_size = int(input(f\"Enter process#{pid_count} memory size: \"))\n",
        "      current_processes.append(Process(pid_count,burst_time, memory_size))\n",
        "      pid_count += 1\n",
        "      break\n",
        "    except ValueError:\n",
        "      print(\"Invalid input. Enter whole numbers only.\")"
      ],
      "metadata": {
        "id": "meqqsfrfGv-8"
      },
      "execution_count": null,
      "outputs": []
    },
    {
      "cell_type": "code",
      "source": [
        "# function to send current_processes for sjf scheduling\n",
        "# run this whenever all the processes in a sjf batch is complete?\n",
        "def sjf_scheduling(processes):\n",
        "  # clear array for next batch\n",
        "  global current_processes\n",
        "  current_processes.clear()\n",
        "\n",
        "  # sort processes based on Burst Time\n",
        "  processes = sorted(processes, key=lambda process: process.burst_time)\n",
        "\n",
        "  # get total wt and tat\n",
        "  # TO REMOVE LATER\n",
        "  wt,  tat = [], []\n",
        "  total_wt, total_tat = 0, 0\n",
        "\n",
        "  for i in range(len(processes)):\n",
        "    #repaint()\n",
        "\n",
        "    #compact()\n",
        "\n",
        "    #coalesce()\n",
        "\n",
        "    if (i == 0):\n",
        "      wt.append(0)\n",
        "      tat.append( processes[i].burst_time)\n",
        "    else:\n",
        "      wt.append( processes[i-1].burst_time + wt[i-1] )\n",
        "      tat.append( processes[i].burst_time + wt[i] )\n",
        "\n",
        "    total_wt += wt[i]\n",
        "    total_tat += tat[i]\n",
        "\n",
        "  for i in range(len(processes)):\n",
        "    print(f\"PID {processes[i].pid}: {processes[i].burst_time}ms {processes[i].memory_size}Kb\")\n",
        "\n",
        "  print(\"Average WT: \", total_wt/len(processes))\n",
        "  print(\"Average TAT: \", total_tat/len(processes))"
      ],
      "metadata": {
        "id": "frAK6_R-ZQI5"
      },
      "execution_count": null,
      "outputs": []
    },
    {
      "cell_type": "code",
      "source": [
        "def best_fit(memory_block):\n",
        "  # loop through memory_blocks []\n",
        "  # get the smallest difference\n",
        "  # put process in memory_block, set size to process.memory_size\n",
        "  # create new memory_block for the remaining hole\n",
        "\n",
        "  global memory_blocks\n",
        "\n",
        "  pass"
      ],
      "metadata": {
        "id": "CdWRLn9LZJPy"
      },
      "execution_count": null,
      "outputs": []
    },
    {
      "cell_type": "code",
      "source": [
        "def is_in_array(array, element, *args) -> bool:\n",
        "  for n in range(len(array)):\n",
        "    match args:\n",
        "      case (\"start\",\"end\"):\n",
        "        if array[n].start == element.start and array[n].end == element.end:\n",
        "          return True\n",
        "\n",
        "  return False"
      ],
      "metadata": {
        "id": "ZnR_DWdXImgN"
      },
      "execution_count": null,
      "outputs": []
    },
    {
      "cell_type": "code",
      "source": [
        "# coalesce\n",
        "def coalesce():\n",
        "  global memory_blocks\n",
        "  coalesced_blocks = []\n",
        "\n",
        "  # sort by start #\n",
        "  memory_blocks = sorted(memory_blocks, key=lambda block: block.start)\n",
        "\n",
        "  if len(memory_blocks) == 1:\n",
        "    coalesced_blocks = memory_blocks\n",
        "  else:\n",
        "    prev = None\n",
        "    for i in range(len(memory_blocks) - 1):\n",
        "      current = memory_blocks[i]\n",
        "      next = memory_blocks[i+1]\n",
        "\n",
        "      if prev is not None:\n",
        "        # if previous was merged, update current\n",
        "        if prev.isFree and prev.end == current.end:\n",
        "          current = prev\n",
        "\n",
        "      if current.isFree and next.isFree:\n",
        "        # if prev is current, meaning prev and current will be merged\n",
        "        # delete duplicate from final array\n",
        "        if prev is current:\n",
        "          coalesced_blocks.pop()\n",
        "\n",
        "        current.end = next.end\n",
        "\n",
        "      if not is_in_array(coalesced_blocks, current, \"start\", \"end\"):\n",
        "        coalesced_blocks.append(current)\n",
        "\n",
        "      if i == len(memory_blocks) - 2:\n",
        "        if not is_in_array(coalesced_blocks, next, \"start\", \"end\"):\n",
        "          coalesced_blocks.append(next)\n",
        "\n",
        "      prev = current\n",
        "\n",
        "  memory_blocks = coalesced_blocks.copy()\n",
        "\n",
        "  for i in range(len(memory_blocks)):\n",
        "    print(f\"[{memory_blocks[i].start}, {memory_blocks[i].end}] {memory_blocks[i].isFree}\")"
      ],
      "metadata": {
        "id": "zKlNy1D_7svs"
      },
      "execution_count": null,
      "outputs": []
    },
    {
      "cell_type": "code",
      "source": [
        "def compact():\n",
        "  #if time&20==0\n",
        "  #place job based on strategy (if has space)\n",
        "  #choose job based on scheduling\n",
        "  #reduce time of chosen job, time++\n",
        "  print('asdf')"
      ],
      "metadata": {
        "id": "7nJBNY5ditWg"
      },
      "execution_count": null,
      "outputs": []
    },
    {
      "cell_type": "code",
      "source": [
        "def main():\n",
        "  global current_processes, pid_count\n",
        "  global main_memory_size, memory_blocks\n",
        "  global time\n",
        "\n",
        "  # for x in range(5):\n",
        "  #   new_job()\n",
        "\n",
        "  #current_processes.append(Process(pid_count,40, 40))\n",
        "  #pid_count += 1\n",
        "  #current_processes.append(Process(pid_count,43, 43))\n",
        "  #pid_count += 1\n",
        "  #current_processes.append(Process(pid_count,66, 66))\n",
        "  #pid_count += 1\n",
        "  #current_processes.append(Process(pid_count,50, 50))\n",
        "  #pid_count += 1\n",
        "  #current_processes.append(Process(pid_count,55, 55))\n",
        "  #pid_count += 1\n",
        "\n",
        "  memory_blocks.append(MemoryBlock(0,99))\n",
        "  memory_blocks.append(MemoryBlock(100,149))\n",
        "  memory_blocks.append(MemoryBlock(150,199))\n",
        "  memory_blocks.append(MemoryBlock(200,249, False))\n",
        "  memory_blocks.append(MemoryBlock(250,349))\n",
        "  memory_blocks.append(MemoryBlock(350,500, False))\n",
        "\n",
        "  # compact()\n",
        "  coalesce()\n",
        "  #placeProcess()\n",
        "\n",
        "\n",
        "\n",
        "\n",
        "  # sjf_scheduling(current_processes.copy())\n",
        "\n",
        "main()"
      ],
      "metadata": {
        "colab": {
          "base_uri": "https://localhost:8080/"
        },
        "id": "BeEmmVLvURRq",
        "outputId": "ec880036-b24c-4739-a4cc-8746eac3e748"
      },
      "execution_count": null,
      "outputs": [
        {
          "output_type": "stream",
          "name": "stdout",
          "text": [
            "[0, 199] True\n",
            "[200, 249] False\n",
            "[250, 349] True\n",
            "[350, 500] False\n"
          ]
        }
      ]
    },
    {
      "cell_type": "markdown",
      "source": [
        "--------------------------------------------------------------------------------"
      ],
      "metadata": {
        "id": "1fsvX583zYDe"
      }
    },
    {
      "cell_type": "code",
      "source": [
        "from PIL import Image, ImageDraw, ImageFont\n",
        "from IPython.display import display, clear_output\n",
        "import time"
      ],
      "metadata": {
        "id": "bxihwneb3b4Q"
      },
      "execution_count": null,
      "outputs": []
    },
    {
      "cell_type": "code",
      "source": [
        "#part of static() - repaints static visuals\n",
        "def repaintStatic(drawObj):\n",
        "  # Set font (optional, use default if not available)\n",
        "  try:\n",
        "      font = ImageFont.truetype(\"/usr/share/fonts/truetype/dejavu/DejaVuSans-Bold.ttf\", 24)\n",
        "  except IOError:\n",
        "      font = ImageFont.load_default()\n",
        "\n",
        "  # Draw the rectangle (outline only, no fill)\n",
        "  drawObj.rectangle([(50, 50), (1000, 250)], outline=\"black\", width=5)\n",
        "\n",
        "  # Add text/label inside the rectangle\n",
        "  text = \"Memory\"\n",
        "  text_position = (50, 35)  # Position where the text will be placed\n",
        "\n",
        "  # Add text to the image\n",
        "  drawObj.text(text_position, text, fill=\"black\", font=font)"
      ],
      "metadata": {
        "id": "GzgCdeIc5zFw"
      },
      "execution_count": null,
      "outputs": []
    },
    {
      "cell_type": "code",
      "source": [
        "memory_blocks.clear()\n",
        "memory_blocks.append(MemoryBlock(0,99))\n",
        "memory_blocks.append(MemoryBlock(100,149))\n",
        "memory_blocks.append(MemoryBlock(150,199))\n",
        "memory_blocks.append(MemoryBlock(200,249, False))\n",
        "memory_blocks.append(MemoryBlock(250,349))\n",
        "memory_blocks.append(MemoryBlock(350,499, False))\n"
      ],
      "metadata": {
        "id": "4HQ57h742CFz"
      },
      "execution_count": null,
      "outputs": []
    },
    {
      "cell_type": "code",
      "source": [
        "#updates image with the changes in memory_blocks array\n",
        "# canvas init\n",
        "image = Image.new(\"RGB\", (1000, 300), color=\"white\")\n",
        "#create object that contains the canvas\n",
        "drawObj = ImageDraw.Draw(image)\n",
        "def repaint():\n",
        "  global memory_blocks\n",
        "  currentPos = (50, 50)\n",
        "\n",
        "\n",
        "\n",
        "  repaintStatic(drawObj)\n",
        "  #display(image)\n",
        "\n",
        "  for block in memory_blocks:\n",
        "    # print(currentPos)\n",
        "    # print(p2)\n",
        "    # print()\n",
        "    p2 = (currentPos[0] + block.get_size(), 250)\n",
        "\n",
        "    drawObj.rectangle([currentPos, p2], outline=\"blue\", width=2)\n",
        "\n",
        "    #increment pointer with block size\n",
        "    currentPos = (currentPos[0] + block.get_size(), currentPos[1])\n",
        "\n",
        "    clear_output(wait=True)\n",
        "    display(image)\n",
        "    #frame rate\n",
        "    time.sleep(0.5)\n",
        "\n",
        "  print(\"repaint complete.\")"
      ],
      "metadata": {
        "id": "Pi289b5rirHG"
      },
      "execution_count": null,
      "outputs": []
    },
    {
      "cell_type": "code",
      "source": [
        "repaint()"
      ],
      "metadata": {
        "colab": {
          "base_uri": "https://localhost:8080/",
          "height": 334
        },
        "id": "VblKYmEtyjWx",
        "outputId": "a5ce5281-b066-437c-bf64-96e4da066e46"
      },
      "execution_count": null,
      "outputs": [
        {
          "output_type": "display_data",
          "data": {
            "text/plain": [
              "<PIL.Image.Image image mode=RGB size=1000x300>"
            ],
            "image/png": "[encoded data removed]",
            "image/jpeg": "[encoded data removed]"
          },
          "metadata": {}
        },
        {
          "output_type": "stream",
          "name": "stdout",
          "text": [
            "repaint complete.\n"
          ]
        }
      ]
    },
    {
      "cell_type": "code",
      "source": [],
      "metadata": {
        "id": "qvdiL219DmVr"
      },
      "execution_count": null,
      "outputs": []
    }
  ]
}